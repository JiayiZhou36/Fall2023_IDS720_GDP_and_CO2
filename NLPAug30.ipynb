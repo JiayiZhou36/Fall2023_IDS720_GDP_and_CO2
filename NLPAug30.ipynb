{
  "nbformat": 4,
  "nbformat_minor": 0,
  "metadata": {
    "colab": {
      "provenance": []
    },
    "kernelspec": {
      "name": "python3",
      "display_name": "Python 3"
    },
    "language_info": {
      "name": "python"
    }
  },
  "cells": [
    {
      "cell_type": "code",
      "execution_count": 1,
      "metadata": {
        "id": "3UqLeCDmMHoK"
      },
      "outputs": [],
      "source": [
        "import math"
      ]
    },
    {
      "cell_type": "code",
      "source": [
        "text = \"Four score and seven years ago our fathers brought forth, upon this continent, a new nation, conceived in liberty, and dedicated to the proposition that all men are created equal.\""
      ],
      "metadata": {
        "id": "snWxvveEM0E8"
      },
      "execution_count": 8,
      "outputs": []
    },
    {
      "cell_type": "code",
      "source": [
        "#token\n",
        "tokens = [char for char in text]"
      ],
      "metadata": {
        "id": "Da1d0GAMNFda"
      },
      "execution_count": 9,
      "outputs": []
    },
    {
      "cell_type": "code",
      "source": [
        "#encoding\n",
        "encodings=[0 if token == \" \" else 1 for token in tokens]"
      ],
      "metadata": {
        "id": "yJaROJcFNIv-"
      },
      "execution_count": 10,
      "outputs": []
    },
    {
      "cell_type": "code",
      "source": [
        "#define model\n",
        "#simple language model\n",
        "p_space =0.5"
      ],
      "metadata": {
        "id": "p3dpL4fSNO-w"
      },
      "execution_count": 11,
      "outputs": []
    },
    {
      "cell_type": "code",
      "source": [
        "#compute probability\n",
        "p = math.prod(p_space if encoding ==0 else (1-p_space) for encoding in encodings)"
      ],
      "metadata": {
        "id": "fT0FooFvNRH-"
      },
      "execution_count": 12,
      "outputs": []
    },
    {
      "cell_type": "code",
      "source": [
        "print(p)"
      ],
      "metadata": {
        "colab": {
          "base_uri": "https://localhost:8080/"
        },
        "id": "Y7sjs-J0OHwv",
        "outputId": "1ce731e2-fce6-4635-d79f-a7a8e3ee635a"
      },
      "execution_count": 13,
      "outputs": [
        {
          "output_type": "stream",
          "name": "stdout",
          "text": [
            "1.305060893599705e-54\n"
          ]
        }
      ]
    },
    {
      "cell_type": "code",
      "source": [
        "# if the text is too long, will underflow, reach the smallest floating point\n",
        "#solution1: log probability"
      ],
      "metadata": {
        "id": "-WI7kaJfOw0p"
      },
      "execution_count": null,
      "outputs": []
    },
    {
      "cell_type": "code",
      "source": [
        "#define model\n",
        "#simple language model\n",
        "p_space =math.log(0.5)"
      ],
      "metadata": {
        "id": "Q9ji2jMWPyCg"
      },
      "execution_count": 16,
      "outputs": []
    },
    {
      "cell_type": "code",
      "source": [
        "#compute probability\n",
        "#1-p_space not work anymore\n",
        "p = sum(p_space if encoding ==0 else math.log(1-math.exp(p_space)) for encoding in encodings)"
      ],
      "metadata": {
        "id": "5YkpFKx4P1sG"
      },
      "execution_count": 20,
      "outputs": []
    },
    {
      "cell_type": "code",
      "source": [
        "print(p)\n",
        "print(math.exp(p))"
      ],
      "metadata": {
        "colab": {
          "base_uri": "https://localhost:8080/"
        },
        "id": "J0yRSuW7P8Dj",
        "outputId": "378785c1-47ac-4a01-b81f-0e21f15acdd1"
      },
      "execution_count": 21,
      "outputs": [
        {
          "output_type": "stream",
          "name": "stdout",
          "text": [
            "-124.07334532023042\n",
            "1.3050608935994363e-54\n"
          ]
        }
      ]
    }
  ]
}